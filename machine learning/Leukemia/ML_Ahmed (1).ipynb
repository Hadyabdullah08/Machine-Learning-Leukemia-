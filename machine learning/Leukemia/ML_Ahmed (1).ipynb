{
  "nbformat": 4,
  "nbformat_minor": 0,
  "metadata": {
    "colab": {
      "provenance": [],
      "collapsed_sections": [
        "bdff47MnAjjx",
        "IBU72QmA_6a2",
        "8T-S7_pptZNi",
        "YWzmewBCr02x",
        "OCYO8ZU8rpTz",
        "xqylYAWv_BeO",
        "APAzrc4SttVx"
      ],
      "private_outputs": true,
      "gpuType": "T4"
    },
    "kernelspec": {
      "name": "python3",
      "display_name": "Python 3"
    },
    "language_info": {
      "name": "python"
    },
    "gpuClass": "standard"
  },
  "cells": [
    {
      "cell_type": "markdown",
      "source": [
        "#data load form API\n"
      ],
      "metadata": {
        "id": "CuVSxSRmASE3"
      }
    },
    {
      "cell_type": "code",
      "source": [
        "! pip install kaggle\n",
        "! mkdir ~/.kaggle\n",
        "! cp kaggle.json ~/.kaggle/\n",
        "! chmod 600 ~/.kaggle/kaggle.json\n",
        "!kaggle datasets download -d andrewmvd/leukemia-classification\n",
        "! unzip leukemia-classification.zip"
      ],
      "metadata": {
        "id": "QYJOIRmsp-Ob"
      },
      "execution_count": null,
      "outputs": []
    },
    {
      "cell_type": "code",
      "source": [
        "import os\n",
        "import glob\n",
        "from PIL import Image\n",
        "import matplotlib.pyplot as plt\n",
        "\n",
        "\n",
        "# Specify the path to the image folders\n",
        "image_folders = [\"/content/C-NMC_Leukemia/training_data/fold_0/all\", \"/content/C-NMC_Leukemia/training_data/fold_0/hem\"]\n",
        "\n",
        "# Create an empty list to store the image objects\n",
        "all_list = []\n",
        "hem_list = []\n",
        "folder_count = 0 \n",
        "# Iterate over each folder\n",
        "for folder in image_folders:\n",
        "    folder_count += 1\n",
        "    # Search for files with specified extensions in the folder\n",
        "    folder_files = glob.glob(os.path.join(folder, \".bmp\")) + glob.glob(os.path.join(folder, \".bmp\")) + glob.glob(os.path.join(folder, \"*.bmp\"))\n",
        "    # Iterate over each filename in the folder_files list\n",
        "    for filename in folder_files:\n",
        "        # Open the image file and append it to the image_list\n",
        "        if folder_count == 1:\n",
        "          all_list.append(Image.open(filename))\n",
        "        if folder_count == 2:\n",
        "          hem_list.append(Image.open(filename))\n",
        "\n",
        "print(len(all_list))\n",
        "print(len(hem_list))\n",
        "\n",
        "plt.figure(figsize=(10, 5))\n",
        "plt.subplot(1, 2, 1)\n",
        "plt.imshow(all_list[0], cmap='gray')\n",
        "plt.title('Sharp Image')"
      ],
      "metadata": {
        "id": "6jg67Lp8yI5_"
      },
      "execution_count": null,
      "outputs": []
    },
    {
      "cell_type": "markdown",
      "source": [
        "#data into Array"
      ],
      "metadata": {
        "id": "bdff47MnAjjx"
      }
    },
    {
      "cell_type": "code",
      "source": [
        "import cv2\n",
        "import numpy as np\n",
        "import matplotlib.pyplot as plt\n",
        "from google.colab.patches import cv2_imshow\n",
        "from PIL import Image\n",
        "import keras \n",
        "import os\n",
        "import glob\n",
        "from PIL import Image\n",
        "# Specify the path to the image folders\n",
        "image_folders = [\"/content/C-NMC_Leukemia/training_data/fold_0/all\",\"/content/C-NMC_Leukemia/training_data/fold_1/all\",\"/content/C-NMC_Leukemia/training_data/fold_2/all\", \"/content/C-NMC_Leukemia/training_data/fold_0/hem\",\"/content/C-NMC_Leukemia/training_data/fold_1/hem\",\"/content/C-NMC_Leukemia/training_data/fold_2/hem\"]\n",
        "\n",
        "# Create lists for each fold\n",
        "all_list_fold0 = []\n",
        "all_list_fold1 = []\n",
        "all_list_fold2 = []\n",
        "hem_list_fold0 = []\n",
        "hem_list_fold1 = []\n",
        "hem_list_fold2 = []\n",
        "validation_set= []\n",
        "testing_set= []\n",
        "folder_count = 0 \n",
        "# Iterate over each folder\n",
        "for folder in image_folders:\n",
        "    folder_count += 1\n",
        "    # Search for files with specified extensions in the folder\n",
        "    folder_files = glob.glob(os.path.join(folder, \".bmp\")) + glob.glob(os.path.join(folder, \".bmp\")) + glob.glob(os.path.join(folder, \"*.bmp\"))\n",
        "    # Iterate over each filename in the folder_files list\n",
        "    for filename in folder_files:\n",
        "        # Open the image file and append it to the image_list\n",
        "        if folder_count == 1:\n",
        "          all_list_fold0.append(Image.open(filename))\n",
        "        if folder_count == 2:\n",
        "          all_list_fold1.append(Image.open(filename))\n",
        "        if folder_count == 3:\n",
        "          all_list_fold2.append(Image.open(filename))\n",
        "        if folder_count == 4:\n",
        "          hem_list_fold0.append(Image.open(filename))\n",
        "        if folder_count == 5:\n",
        "          hem_list_fold1.append(Image.open(filename))\n",
        "        if folder_count == 6:\n",
        "          hem_list_fold2.append(Image.open(filename))\n",
        "\n",
        "print(len(all_list_fold0))\n",
        "print(len(all_list_fold1))\n",
        "print(len(all_list_fold2))\n",
        "print(len(hem_list_fold0))\n",
        "print(len(hem_list_fold1))\n",
        "print(len(hem_list_fold2))\n",
        "\n",
        "plt.figure(figsize=(10, 5))\n",
        "plt.subplot(1, 2, 1)\n",
        "plt.imshow(all_list_fold0[0], cmap='gray')\n",
        "plt.title('Sharp Image')"
      ],
      "metadata": {
        "id": "fQWUIibyfxQu"
      },
      "execution_count": null,
      "outputs": []
    },
    {
      "cell_type": "markdown",
      "source": [
        "#labeliing"
      ],
      "metadata": {
        "id": "IBU72QmA_6a2"
      }
    },
    {
      "cell_type": "code",
      "source": [
        "class Pics:\n",
        "    def __init__(self, image=\"\", label=-1):\n",
        "        self.image = image\n",
        "        self.label = label\n",
        "        \n",
        "all_list_fold0_labeld = []\n",
        "all_list_fold1_labeld = []\n",
        "all_list_fold2_labeld = []\n",
        "hem_list_fold0_labeld = []\n",
        "hem_list_fold1_labeld = []\n",
        "hem_list_fold2_labeld = []\n",
        "def labeliing(list_name,labeld_list,v):\n",
        "  for image in list_name:\n",
        "    if v==1:\n",
        "      pic = Pics(image=image, label=1)\n",
        "      labeld_list.append(pic)\n",
        "    if v==0:\n",
        "      pic = Pics(image=image, label=0)\n",
        "      labeld_list.append(pic)\n",
        "\n",
        "####################################################all+label=1\n",
        "labeliing(all_list_fold0,all_list_fold0_labeld,1)\n",
        "labeliing(all_list_fold1,all_list_fold1_labeld,1)\n",
        "labeliing(all_list_fold2,all_list_fold2_labeld,1)\n",
        "####################################################hem_label=0\n",
        "labeliing(hem_list_fold0,hem_list_fold0_labeld,0)\n",
        "labeliing(hem_list_fold1,hem_list_fold1_labeld,0)\n",
        "labeliing(hem_list_fold2,hem_list_fold2_labeld,0)\n",
        "\n",
        "print(all_list_fold0_labeld[10].label)\n",
        "print(all_list_fold1_labeld[5].label)\n",
        "print(hem_list_fold0_labeld[10].label)\n",
        "print(hem_list_fold1_labeld[5].label)\n",
        "print(len(hem_list_fold2_labeld))\n",
        "hem_list_fold0_labeld[0].image.show()"
      ],
      "metadata": {
        "id": "Paa9_GQ-fsvX"
      },
      "execution_count": null,
      "outputs": []
    },
    {
      "cell_type": "markdown",
      "source": [
        "# Resizing\n"
      ],
      "metadata": {
        "id": "8T-S7_pptZNi"
      }
    },
    {
      "cell_type": "code",
      "source": [
        "#img = Image.open(r'/content/UID_11_11_2_all.bmp')\n",
        "#height, width = img.shape\n",
        "\n",
        "#all_list_fold0.clear()\n",
        "#all_list_fold1.clear()\n",
        "#all_list_fold2.clear()\n",
        "#hem_list_fold0.clear()\n",
        "#hem_list_fold1.clear()\n",
        "#hem_list_fold2.clear()\n",
        "left=80\n",
        "top=80\n",
        "right=379\n",
        "bottom=379\n",
        "def Resizing(list_name,left,top,right,bottom):\n",
        "  for i in range(len(list_name)):\n",
        "    list_name[i].image=list_name[i].image.resize((299, 299))\n",
        "\n",
        "Resizing(all_list_fold0_labeld,left,top,right,bottom)\n",
        "\n",
        "Resizing(all_list_fold1_labeld,left,top,right,bottom)\n",
        "\n",
        "Resizing(all_list_fold2_labeld,left,top,right,bottom)\n",
        "\n",
        "Resizing(hem_list_fold0_labeld,left,top,right,bottom)\n",
        "\n",
        "Resizing(hem_list_fold1_labeld,left,top,right,bottom)\n",
        "\n",
        "Resizing(hem_list_fold2_labeld,left,top,right,bottom)\n",
        "\"\"\"\n",
        "def Resizing(list_name,left,top,right,bottom):\n",
        "  for i in range(len(list_name)):\n",
        "    list_name[i].image=list_name[i].image.crop((left,top,right,bottom))\n",
        "\n",
        "\"\"\"\n",
        "#img_res=all_list_fold0_labeld[0].image.crop((left,top,right,bottom))\n",
        "#img_res=img.crop((left,top,right,bottom))\n",
        "#all_list_fold0_labeld[0].image.show()"
      ],
      "metadata": {
        "id": "AhlEJBxO7bJ3"
      },
      "execution_count": null,
      "outputs": []
    },
    {
      "cell_type": "markdown",
      "source": [
        "#augmentation"
      ],
      "metadata": {
        "id": "7ETqIRIsFx_z"
      }
    },
    {
      "cell_type": "code",
      "source": [
        "from numpy import expand_dims\n",
        "from tensorflow.keras.utils import load_img\n",
        "from tensorflow.keras.utils import img_to_array\n",
        "from keras.preprocessing.image import ImageDataGenerator\n",
        "from matplotlib import pyplot\n",
        "'''del all_list_fold0\n",
        "del all_list_fold1\n",
        "del all_list_fold2\n",
        "del hem_list_fold0\n",
        "del hem_list_fold1\n",
        "del hem_list_fold2\n",
        "del hem_list\n",
        "del all_list'''\n",
        "ct=-1\n",
        "mm=1\n",
        "# load the image\n",
        "def augmentation(list_name):\n",
        "   \n",
        "   for i in range(0,len(list_name),mm):\n",
        "    ct=+1\n",
        "    print(ct)\n",
        "    img=list_name[i].image\n",
        "    #random_rotation\n",
        "    if(ct==0 or ct ==1):\n",
        "      # convert to numpy array\n",
        "      data = img_to_array(img)\n",
        "      # expand dimension to one sample\n",
        "      samples = expand_dims(data, 0)\n",
        "      # create image data augmentation generator\n",
        "      datagen = ImageDataGenerator(rotation_range=90)\n",
        "      # prepare iterator\n",
        "      it = datagen.flow(samples, batch_size=1)\n",
        "      #zoominggg\n",
        "    if(ct==2 or ct ==3):\n",
        "      data = img_to_array(img)\n",
        "      # expand dimension to one sample\n",
        "      samples = expand_dims(data, 0)\n",
        "      # create image data augmentation generator\n",
        "      datagen = ImageDataGenerator(zoom_range=[0.5,1.0])\n",
        "      # prepare iterator\n",
        "      it = datagen.flow(samples, batch_size=1)\n",
        "      #brighting\n",
        "    if(ct==4 or ct ==5):\n",
        "      data = img_to_array(img)\n",
        "      # expand dimension to one sample\n",
        "      samples = expand_dims(data, 0)\n",
        "      # create image data augmentation generator\n",
        "      datagen = ImageDataGenerator(brightness_range=[0.2,1.0])\n",
        "      # prepare iterator\n",
        "      it = datagen.flow(samples, batch_size=1)\n",
        "      ct==-1\n",
        "    for i in range(2):\n",
        "      # define subplot\n",
        "      pyplot.subplot(330 + 1 + i)\n",
        "      # generate batch of images\n",
        "      batch = it.next()\n",
        "      # convert to unsigned integers for viewing\n",
        "      image = batch[0].astype('uint8')\n",
        "      pic = Pics(image=image, label=list_name[0].label)\n",
        "      list_name.append(pic)\n",
        "      # plot raw pixel data\n",
        "      pyplot.imshow(image)\n",
        "      # show the figure\n",
        "      pyplot.show()\n",
        "augmentation(all_list_fold0_labeld)\n",
        "augmentation(all_list_fold1_labeld)\n",
        "augmentation(hem_list_fold0_labeld)\n",
        "augmentation(hem_list_fold1_labeld)\n",
        "augmentation(hem_list_fold2_labeld)\n",
        "augmentation(all_list_fold2_labeld)"
      ],
      "metadata": {
        "id": "n1HCkm16AzAG"
      },
      "execution_count": null,
      "outputs": []
    },
    {
      "cell_type": "markdown",
      "source": [
        "# example of horizontal shift image augmentation"
      ],
      "metadata": {
        "id": "YWzmewBCr02x"
      }
    },
    {
      "cell_type": "code",
      "source": [
        "# example of horizontal shift image augmentation\n",
        "from numpy import expand_dims\n",
        "#from keras.preprocessing.image import load_img\n",
        "from tensorflow.keras.utils import load_img\n",
        "#from keras.preprocessing.image import img_to_array\n",
        "from tensorflow.keras.utils import img_to_array\n",
        "from keras.preprocessing.image import ImageDataGenerator\n",
        "from matplotlib import pyplot\n",
        "# load the image\n",
        "img=all_list_fold0_labeld[0].image\n",
        "#img = load_img('/content/C-NMC_Leukemia/training_data/fold_0/all/UID_11_15_3_all.bmp')\n",
        "#plt.imshow(img)\n",
        "# convert to numpy array\n",
        "data = img_to_array(img)\n",
        "# expand dimension to one sample\n",
        "samples = expand_dims(data, 0)\n",
        "# create image data augmentation generator\n",
        "datagen = ImageDataGenerator(width_shift_range=[-200,200])\n",
        "# prepare iterator\n",
        "it = datagen.flow(samples, batch_size=1)\n",
        "# generate samples and plot\n",
        "for i in range(9):\n",
        "      # define subplot\n",
        "      pyplot.subplot(330 + 1 + i)\n",
        "      # generate batch of images\n",
        "      batch = it.next()\n",
        "      # convert to unsigned integers for viewing\n",
        "      image = batch[0].astype('uint8')\n",
        "      # plot raw pixel data\n",
        "      pyplot.imshow(image)\n",
        "      # show the figure\n",
        "      pyplot.show()"
      ],
      "metadata": {
        "id": "gjc170XpK70T"
      },
      "execution_count": null,
      "outputs": []
    },
    {
      "cell_type": "code",
      "source": [
        "img = load_img('/content/C-NMC_Leukemia/training_data/fold_0/all/UID_11_15_3_all.bmp')\n",
        "plt.imshow(img)"
      ],
      "metadata": {
        "id": "ezFKR3BJMLce"
      },
      "execution_count": null,
      "outputs": []
    },
    {
      "cell_type": "code",
      "source": [
        "# example of vertical shift image augmentation\n",
        "from numpy import expand_dims\n",
        "from tensorflow.keras.utils import load_img\n",
        "from tensorflow.keras.utils import img_to_array\n",
        "from keras.preprocessing.image import ImageDataGenerator\n",
        "from matplotlib import pyplot\n",
        "# load the image\n",
        "img=all_list_fold0_labeld[0].image\n",
        "# convert to numpy array\n",
        "data = img_to_array(img)\n",
        "# expand dimension to one sample\n",
        "samples = expand_dims(data, 0)\n",
        "# create image data augmentation generator\n",
        "datagen = ImageDataGenerator(height_shift_range=0.5)\n",
        "# prepare iterator\n",
        "it = datagen.flow(samples, batch_size=1)\n",
        "# generate samples and plot\n",
        "for i in range(9):\n",
        " # define subplot\n",
        " pyplot.subplot(330 + 1 + i)\n",
        " # generate batch of images\n",
        " batch = it.next()\n",
        " # convert to unsigned integers for viewing\n",
        " image = batch[0].astype('uint8')\n",
        " # plot raw pixel data\n",
        " pyplot.imshow(image)\n",
        "# show the figure\n",
        "pyplot.show()"
      ],
      "metadata": {
        "id": "OoHxqgJZNNwK"
      },
      "execution_count": null,
      "outputs": []
    },
    {
      "cell_type": "markdown",
      "source": [
        "# example of random rotation image augmentation"
      ],
      "metadata": {
        "id": "OCYO8ZU8rpTz"
      }
    },
    {
      "cell_type": "code",
      "source": [
        "# example of random rotation image augmentation\n",
        "from numpy import expand_dims\n",
        "from tensorflow.keras.utils import load_img\n",
        "from tensorflow.keras.utils import img_to_array\n",
        "from keras.preprocessing.image import ImageDataGenerator\n",
        "from matplotlib import pyplot\n",
        "del all_list_fold0\n",
        "del all_list_fold1\n",
        "del all_list_fold2\n",
        "del hem_list_fold0\n",
        "del hem_list_fold1\n",
        "del hem_list_fold2\n",
        "del hem_list\n",
        "del all_list\n",
        "# load the image\n",
        "def random_rotation(list_name):\n",
        "   for i in range(0,len(list_name),10):\n",
        "    print(i)\n",
        "    img=list_name[i].image\n",
        "    #img = load_img('/content/C-NMC_Leukemia/training_data/fold_0/all/UID_11_17_2_all.bmp')\n",
        "    # convert to numpy array\n",
        "    data = img_to_array(img)\n",
        "    # expand dimension to one sample\n",
        "    samples = expand_dims(data, 0)\n",
        "    # create image data augmentation generator\n",
        "    datagen = ImageDataGenerator(rotation_range=90)\n",
        "    # prepare iterator\n",
        "    it = datagen.flow(samples, batch_size=1)\n",
        "    # generate samples and plot\n",
        "    for i in range(2):\n",
        "      # define subplot\n",
        "      #pyplot.subplot(330 + 1 + i)\n",
        "      # generate batch of images\n",
        "      batch = it.next()\n",
        "      # convert to unsigned integers for viewing\n",
        "      image = batch[0].astype('uint8')\n",
        "      pic = Pics(image=image, label=list_name[0].label)\n",
        "      list_name.append(pic)\n",
        "      # plot raw pixel data\n",
        "      #pyplot.imshow(image)\n",
        "      # show the figure\n",
        "      #pyplot.show()\n",
        "random_rotation(all_list_fold0_labeld)\n",
        "random_rotation(all_list_fold1_labeld)\n",
        "random_rotation(hem_list_fold0_labeld)\n",
        "random_rotation(hem_list_fold1_labeld)\n",
        "random_rotation(hem_list_fold2_labeld)\n",
        "random_rotation(all_list_fold2_labeld)"
      ],
      "metadata": {
        "id": "RxKyjaQINbiT"
      },
      "execution_count": null,
      "outputs": []
    },
    {
      "cell_type": "markdown",
      "source": [
        "# example of brighting image augmentation"
      ],
      "metadata": {
        "id": "leebUdVm-83Y"
      }
    },
    {
      "cell_type": "code",
      "source": [
        "\n",
        "# example of brighting image augmentation\n",
        "from numpy import expand_dims\n",
        "from tensorflow.keras.utils import load_img\n",
        "from tensorflow.keras.utils import img_to_array\n",
        "from keras.preprocessing.image import ImageDataGenerator\n",
        "from matplotlib import pyplot\n",
        "# load the image\n",
        "def brighting(list_name):\n",
        "   for i in range(0,len(list_name),10):\n",
        "    img=list_name[i].image\n",
        "    # convert to numpy array\n",
        "    data = img_to_array(img)\n",
        "    # expand dimension to one sample\n",
        "    samples = expand_dims(data, 0)\n",
        "    # create image data augmentation generator\n",
        "    datagen = ImageDataGenerator(brightness_range=[0.2,1.0])\n",
        "    # prepare iterator\n",
        "    it = datagen.flow(samples, batch_size=1)\n",
        "    # generate samples and plot\n",
        "    for i in range(9):\n",
        "      # define subplot\n",
        "      pyplot.subplot(330 + 1 + i)\n",
        "      # generate batch of images\n",
        "      batch = it.next()\n",
        "      # convert to unsigned integers for viewing\n",
        "      image = batch[0].astype('uint8')\n",
        "      pic = Pics(image=image, label=list_name[0].label)\n",
        "      list_name.append(pic)\n",
        "      # plot raw pixel data\n",
        "      pyplot.imshow(image)\n",
        "      # show the figure\n",
        "      pyplot.show()\n",
        "brighting(all_list_fold0_labeld)\n",
        "brighting(all_list_fold1_labeld)\n",
        "brighting(hem_list_fold0_labeld)\n",
        "brighting(hem_list_fold1_labeld)\n",
        "brighting(hem_list_fold2_labeld)\n",
        "brighting(all_list_fold2_labeld)"
      ],
      "metadata": {
        "id": "dfKOG8blNrnE"
      },
      "execution_count": null,
      "outputs": []
    },
    {
      "cell_type": "markdown",
      "source": [
        "# example of zoom image augmentation"
      ],
      "metadata": {
        "id": "xqylYAWv_BeO"
      }
    },
    {
      "cell_type": "code",
      "source": [
        "# example of zoom image augmentation\n",
        "from numpy import expand_dims\n",
        "from tensorflow.keras.utils import load_img\n",
        "from tensorflow.keras.utils import img_to_array\n",
        "from keras.preprocessing.image import ImageDataGenerator\n",
        "from matplotlib import pyplot\n",
        "# load the image\n",
        "def zoom(list_name):\n",
        "   for i in range(0,len(list_name),10):\n",
        "    img=list_name[i].image\n",
        "    # convert to numpy array\n",
        "    data = img_to_array(img)\n",
        "    # expand dimension to one sample\n",
        "    samples = expand_dims(data, 0)\n",
        "    # create image data augmentation generator\n",
        "    datagen = ImageDataGenerator(zoom_range=[0.5,1.0])\n",
        "    # prepare iterator\n",
        "    it = datagen.flow(samples, batch_size=1)\n",
        "    # generate samples and plot\n",
        "    for i in range(9):\n",
        "      # define subplot\n",
        "      pyplot.subplot(330 + 1 + i)\n",
        "      # generate batch of images\n",
        "      batch = it.next()\n",
        "      # convert to unsigned integers for viewing\n",
        "      image = batch[0].astype('uint8')\n",
        "      pic = Pics(image=image, label=list_name[0].label)\n",
        "      list_name.append(pic)\n",
        "      # plot raw pixel data\n",
        "      pyplot.imshow(image)\n",
        "      # show the figure\n",
        "      pyplot.show()\n",
        "zoom(all_list_fold0_labeld)\n",
        "zoom(all_list_fold1_labeld)\n",
        "zoom(hem_list_fold0_labeld)\n",
        "zoom(hem_list_fold1_labeld)\n",
        "zoom(hem_list_fold2_labeld)\n",
        "zoom(all_list_fold2_labeld)"
      ],
      "metadata": {
        "id": "53CrcMtWN24c"
      },
      "execution_count": null,
      "outputs": []
    },
    {
      "cell_type": "markdown",
      "source": [
        "#tensor"
      ],
      "metadata": {
        "id": "APAzrc4SttVx"
      }
    },
    {
      "cell_type": "code",
      "source": [
        "\n",
        "# Import required libraries\n",
        "import torch\n",
        "import numpy\n",
        "import cv2\n",
        "import torchvision.transforms as transforms\n",
        "  \n",
        "# Read the image\n",
        "image = cv2.imread('/content/C-NMC_Leukemia/testing_data/C-NMC_test_final_phase_data/1.bmp')\n",
        "# Convert BGR image to RGB image\n",
        "image = cv2.cvtColor(image, cv2.COLOR_BGR2RGB)\n",
        "  \n",
        "# Define a transform to convert\n",
        "# the image to torch tensor\n",
        "transform = transforms.Compose([\n",
        "    transforms.ToTensor()\n",
        "])\n",
        "  \n",
        "# Convert the image to Torch tensor\n",
        "tensor = transform(image)\n",
        "  \n",
        "# print the converted image tensor\n",
        "print(tensor)"
      ],
      "metadata": {
        "id": "QySxwWzldCpc"
      },
      "execution_count": null,
      "outputs": []
    },
    {
      "cell_type": "code",
      "source": [],
      "metadata": {
        "id": "gJIMvhpd3eIt"
      },
      "execution_count": null,
      "outputs": []
    }
  ]
}