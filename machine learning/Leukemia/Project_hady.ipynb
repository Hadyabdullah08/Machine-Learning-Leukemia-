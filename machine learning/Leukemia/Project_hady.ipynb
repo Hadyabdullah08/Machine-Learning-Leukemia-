{
  "nbformat": 4,
  "nbformat_minor": 0,
  "metadata": {
    "colab": {
      "provenance": []
    },
    "kernelspec": {
      "name": "python3",
      "display_name": "Python 3"
    },
    "language_info": {
      "name": "python"
    }
  },
  "cells": [
    {
      "cell_type": "code",
      "source": [
        "! pip install kaggle"
      ],
      "metadata": {
        "colab": {
          "base_uri": "https://localhost:8080/"
        },
        "id": "m_DOx94m1j5b",
        "outputId": "89ad115a-81ab-4319-ccf3-1f526c50f8eb"
      },
      "execution_count": 2,
      "outputs": [
        {
          "output_type": "stream",
          "name": "stdout",
          "text": [
            "Looking in indexes: https://pypi.org/simple, https://us-python.pkg.dev/colab-wheels/public/simple/\n",
            "Requirement already satisfied: kaggle in /usr/local/lib/python3.10/dist-packages (1.5.13)\n",
            "Requirement already satisfied: six>=1.10 in /usr/local/lib/python3.10/dist-packages (from kaggle) (1.16.0)\n",
            "Requirement already satisfied: certifi in /usr/local/lib/python3.10/dist-packages (from kaggle) (2022.12.7)\n",
            "Requirement already satisfied: python-dateutil in /usr/local/lib/python3.10/dist-packages (from kaggle) (2.8.2)\n",
            "Requirement already satisfied: requests in /usr/local/lib/python3.10/dist-packages (from kaggle) (2.27.1)\n",
            "Requirement already satisfied: tqdm in /usr/local/lib/python3.10/dist-packages (from kaggle) (4.65.0)\n",
            "Requirement already satisfied: python-slugify in /usr/local/lib/python3.10/dist-packages (from kaggle) (8.0.1)\n",
            "Requirement already satisfied: urllib3 in /usr/local/lib/python3.10/dist-packages (from kaggle) (1.26.15)\n",
            "Requirement already satisfied: text-unidecode>=1.3 in /usr/local/lib/python3.10/dist-packages (from python-slugify->kaggle) (1.3)\n",
            "Requirement already satisfied: charset-normalizer~=2.0.0 in /usr/local/lib/python3.10/dist-packages (from requests->kaggle) (2.0.12)\n",
            "Requirement already satisfied: idna<4,>=2.5 in /usr/local/lib/python3.10/dist-packages (from requests->kaggle) (3.4)\n"
          ]
        }
      ]
    },
    {
      "cell_type": "code",
      "source": [
        "! mkdir ~/.kaggle\n",
        "! cp kaggle.json ~/.kaggle/\n",
        "! chmod 600 ~/.kaggle/kaggle.json\n",
        "!kaggle datasets download -d andrewmvd/leukemia-classification\n"
      ],
      "metadata": {
        "colab": {
          "base_uri": "https://localhost:8080/"
        },
        "id": "FCHMd2v21lvf",
        "outputId": "31a8a144-9f56-4ccf-a050-264dcd28665e"
      },
      "execution_count": 3,
      "outputs": [
        {
          "output_type": "stream",
          "name": "stdout",
          "text": [
            "cp: cannot stat 'kaggle.json': No such file or directory\n",
            "chmod: cannot access '/root/.kaggle/kaggle.json': No such file or directory\n",
            "Traceback (most recent call last):\n",
            "  File \"/usr/local/bin/kaggle\", line 5, in <module>\n",
            "    from kaggle.cli import main\n",
            "  File \"/usr/local/lib/python3.10/dist-packages/kaggle/__init__.py\", line 23, in <module>\n",
            "    api.authenticate()\n",
            "  File \"/usr/local/lib/python3.10/dist-packages/kaggle/api/kaggle_api_extended.py\", line 164, in authenticate\n",
            "    raise IOError('Could not find {}. Make sure it\\'s located in'\n",
            "OSError: Could not find kaggle.json. Make sure it's located in /root/.kaggle. Or use the environment method.\n"
          ]
        }
      ]
    },
    {
      "cell_type": "code",
      "source": [
        "! unzip leukemia-classification.zip"
      ],
      "metadata": {
        "colab": {
          "base_uri": "https://localhost:8080/"
        },
        "id": "gA6zqxBCNUiQ",
        "outputId": "1d387998-8a25-446a-e803-f44b6ee2422b"
      },
      "execution_count": 4,
      "outputs": [
        {
          "output_type": "stream",
          "name": "stdout",
          "text": [
            "unzip:  cannot find or open leukemia-classification.zip, leukemia-classification.zip.zip or leukemia-classification.zip.ZIP.\n"
          ]
        }
      ]
    },
    {
      "cell_type": "code",
      "source": [
        "import cv2\n",
        "import numpy as np\n",
        "import matplotlib.pyplot as plt\n",
        "from google.colab.patches import cv2_imshow\n",
        "from PIL import Image\n",
        "import keras "
      ],
      "metadata": {
        "id": "OihYbkyi5ZTN"
      },
      "execution_count": 5,
      "outputs": []
    },
    {
      "cell_type": "markdown",
      "source": [
        "## ***Reading data folds into lists***"
      ],
      "metadata": {
        "id": "LS8qB-xVdNbE"
      }
    },
    {
      "cell_type": "code",
      "source": [
        "import os\n",
        "import glob\n",
        "from PIL import Image\n",
        "# Specify the path to the image folders\n",
        "image_folders = [\"/content/C-NMC_Leukemia/training_data/fold_0/all\",\"/content/C-NMC_Leukemia/training_data/fold_1/all\",\"/content/C-NMC_Leukemia/training_data/fold_2/all\", \"/content/C-NMC_Leukemia/training_data/fold_0/hem\",\"/content/C-NMC_Leukemia/training_data/fold_1/hem\",\"/content/C-NMC_Leukemia/training_data/fold_2/hem\"]\n",
        "\n",
        "# Create lists for each fold\n",
        "all_list_fold0 = []\n",
        "all_list_fold1 = []\n",
        "all_list_fold2 = []\n",
        "hem_list_fold0 = []\n",
        "hem_list_fold1 = []\n",
        "hem_list_fold2 = []\n",
        "validation_set= []\n",
        "testing_set= []\n",
        "folder_count = 0 \n",
        "# Iterate over each folder\n",
        "for folder in image_folders:\n",
        "    folder_count += 1\n",
        "    # Search for files with specified extensions in the folder\n",
        "    folder_files = glob.glob(os.path.join(folder, \".bmp\")) + glob.glob(os.path.join(folder, \".bmp\")) + glob.glob(os.path.join(folder, \"*.bmp\"))\n",
        "    # Iterate over each filename in the folder_files list\n",
        "    for filename in folder_files:\n",
        "        # Open the image file and append it to the image_list\n",
        "        if folder_count == 1:\n",
        "          all_list_fold0.append(Image.open(filename))\n",
        "        if folder_count == 2:\n",
        "          all_list_fold1.append(Image.open(filename))\n",
        "        if folder_count == 3:\n",
        "          all_list_fold2.append(Image.open(filename))\n",
        "        if folder_count == 4:\n",
        "          hem_list_fold0.append(Image.open(filename))\n",
        "        if folder_count == 5:\n",
        "          hem_list_fold1.append(Image.open(filename))\n",
        "        if folder_count == 6:\n",
        "          hem_list_fold2.append(Image.open(filename))\n",
        "          \n",
        "#plt.figure(figsize=(10, 5))\n",
        "#plt.subplot(1, 2, 1)\n",
        "#plt.imshow(all_list_fold0[0], cmap='gray')\n",
        "#plt.title('Sharp Image')"
      ],
      "metadata": {
        "id": "ViP82mXu2aV9"
      },
      "execution_count": 6,
      "outputs": []
    },
    {
      "cell_type": "code",
      "source": [
        "\n",
        "import cv2\n",
        "import numpy as np\n",
        "import matplotlib.pyplot as plt\n",
        "from google.colab.patches import cv2_imshow\n",
        "from PIL import Image\n",
        "import keras "
      ],
      "metadata": {
        "id": "RCkms4hbAC1A"
      },
      "execution_count": 7,
      "outputs": []
    },
    {
      "cell_type": "markdown",
      "source": [
        "# ***Labeling the Date ***"
      ],
      "metadata": {
        "id": "FzE22kDSedZc"
      }
    },
    {
      "cell_type": "code",
      "source": [
        "class Pics:\n",
        "    def __init__(self, image=\"\", label=-1):\n",
        "        self.image = image\n",
        "        self.label = label\n",
        "        \n",
        "all_list_fold0_labeld = []\n",
        "all_list_fold1_labeld = []\n",
        "all_list_fold2_labeld = []\n",
        "hem_list_fold0_labeld = []\n",
        "hem_list_fold1_labeld = []\n",
        "hem_list_fold2_labeld = []\n",
        "def labeliing(list_name,labeld_list,v):\n",
        "  for image in list_name:\n",
        "    if v==1:\n",
        "      pic = Pics(image=image, label=1)\n",
        "      labeld_list.append(pic)\n",
        "    if v==0:\n",
        "      pic = Pics(image=image, label=0)\n",
        "      labeld_list.append(pic)\n",
        "\n",
        "####################################################all+label=1\n",
        "labeliing(all_list_fold0,all_list_fold0_labeld,1)\n",
        "labeliing(all_list_fold1,all_list_fold1_labeld,1)\n",
        "labeliing(all_list_fold2,all_list_fold2_labeld,1)\n",
        "####################################################hem_label=0\n",
        "labeliing(hem_list_fold0,hem_list_fold0_labeld,0)\n",
        "labeliing(hem_list_fold1,hem_list_fold1_labeld,0)\n",
        "labeliing(hem_list_fold2,hem_list_fold2_labeld,0)\n",
        "\n",
        "\n",
        "#hem_list_fold0_labeld[0].image.show()"
      ],
      "metadata": {
        "id": "at_KXS1HccMM"
      },
      "execution_count": 8,
      "outputs": []
    },
    {
      "cell_type": "code",
      "source": [
        "del all_list_fold0\n",
        "del all_list_fold1\n",
        "del all_list_fold2\n",
        "del hem_list_fold0\n",
        "del hem_list_fold1\n",
        "del hem_list_fold2"
      ],
      "metadata": {
        "id": "Y6xEtNrTxBNt"
      },
      "execution_count": 9,
      "outputs": []
    },
    {
      "cell_type": "code",
      "source": [
        "for i in range(9):\n",
        "  hem_list_fold0_labeld[i].image.show()"
      ],
      "metadata": {
        "id": "MbaQmx-cykSJ",
        "colab": {
          "base_uri": "https://localhost:8080/",
          "height": 183
        },
        "outputId": "167912e8-8a54-494f-c39a-f92ccf7acf52"
      },
      "execution_count": 10,
      "outputs": [
        {
          "output_type": "error",
          "ename": "IndexError",
          "evalue": "ignored",
          "traceback": [
            "\u001b[0;31m---------------------------------------------------------------------------\u001b[0m",
            "\u001b[0;31mIndexError\u001b[0m                                Traceback (most recent call last)",
            "\u001b[0;32m<ipython-input-10-31a9c18c7740>\u001b[0m in \u001b[0;36m<cell line: 1>\u001b[0;34m()\u001b[0m\n\u001b[1;32m      1\u001b[0m \u001b[0;32mfor\u001b[0m \u001b[0mi\u001b[0m \u001b[0;32min\u001b[0m \u001b[0mrange\u001b[0m\u001b[0;34m(\u001b[0m\u001b[0;36m9\u001b[0m\u001b[0;34m)\u001b[0m\u001b[0;34m:\u001b[0m\u001b[0;34m\u001b[0m\u001b[0;34m\u001b[0m\u001b[0m\n\u001b[0;32m----> 2\u001b[0;31m   \u001b[0mhem_list_fold0_labeld\u001b[0m\u001b[0;34m[\u001b[0m\u001b[0mi\u001b[0m\u001b[0;34m]\u001b[0m\u001b[0;34m.\u001b[0m\u001b[0mimage\u001b[0m\u001b[0;34m.\u001b[0m\u001b[0mshow\u001b[0m\u001b[0;34m(\u001b[0m\u001b[0;34m)\u001b[0m\u001b[0;34m\u001b[0m\u001b[0;34m\u001b[0m\u001b[0m\n\u001b[0m",
            "\u001b[0;31mIndexError\u001b[0m: list index out of range"
          ]
        }
      ]
    },
    {
      "cell_type": "markdown",
      "source": [
        "***Resizing and croping***"
      ],
      "metadata": {
        "id": "Mn5whPqkAgvx"
      }
    },
    {
      "cell_type": "code",
      "source": [
        "\n",
        "#img = Image.open(r'/content/UID_11_11_2_all.bmp')\n",
        "#height, width = img.shape\n",
        "\n",
        "#all_list_fold0.clear()\n",
        "#all_list_fold1.clear()\n",
        "#all_list_fold2.clear()\n",
        "#hem_list_fold0.clear()\n",
        "#hem_list_fold1.clear()\n",
        "#hem_list_fold2.clear()\n",
        "left=80\n",
        "top=80\n",
        "right=379\n",
        "bottom=379\n",
        "def Resizing(list_name,left,top,right,bottom):\n",
        "  for i in range(len(list_name)):\n",
        "    list_name[i].image=list_name[i].image.resize((299, 299))\n",
        "\n",
        "Resizing(all_list_fold0_labeld,left,top,right,bottom)\n",
        "\n",
        "Resizing(all_list_fold1_labeld,left,top,right,bottom)\n",
        "\n",
        "Resizing(all_list_fold2_labeld,left,top,right,bottom)\n",
        "\n",
        "Resizing(hem_list_fold0_labeld,left,top,right,bottom)\n",
        "\n",
        "Resizing(hem_list_fold1_labeld,left,top,right,bottom)\n",
        "\n",
        "Resizing(hem_list_fold2_labeld,left,top,right,bottom)\n",
        "\"\"\"\n",
        "def Resizing(list_name,left,top,right,bottom):\n",
        "  for i in range(len(list_name)):\n",
        "    list_name[i].image=list_name[i].image.crop((left,top,right,bottom))\n",
        "\n",
        "\"\"\"\n",
        "#img_res=all_list_fold0_labeld[0].image.crop((left,top,right,bottom))\n",
        "#img_res=img.crop((left,top,right,bottom))\n",
        "#all_list_fold0_labeld[0].image.show()"
      ],
      "metadata": {
        "colab": {
          "base_uri": "https://localhost:8080/",
          "height": 53
        },
        "id": "JkZ4REK4B8n5",
        "outputId": "3180a002-d822-406a-e58f-f691cb7adc51"
      },
      "execution_count": 11,
      "outputs": [
        {
          "output_type": "execute_result",
          "data": {
            "text/plain": [
              "'\\ndef Resizing(list_name,left,top,right,bottom):\\n  for i in range(len(list_name)):\\n    list_name[i].image=list_name[i].image.crop((left,top,right,bottom))\\n\\n'"
            ],
            "application/vnd.google.colaboratory.intrinsic+json": {
              "type": "string"
            }
          },
          "metadata": {},
          "execution_count": 11
        }
      ]
    },
    {
      "cell_type": "code",
      "source": [
        "from numpy import expand_dims\n",
        "from tensorflow.keras.utils import load_img\n",
        "from tensorflow.keras.utils import img_to_array\n",
        "from keras.preprocessing.image import ImageDataGenerator\n",
        "from matplotlib import pyplot"
      ],
      "metadata": {
        "id": "cVYqhciGtQAH"
      },
      "execution_count": 12,
      "outputs": []
    },
    {
      "cell_type": "markdown",
      "source": [],
      "metadata": {
        "id": "D6sXMANdApjJ"
      }
    },
    {
      "cell_type": "code",
      "source": [
        "# example of random rotation image augmentation\n",
        "\n",
        "# load the image\n",
        "def random_rotation(list_name):\n",
        "   for i in range(0, len(list_name), 3):\n",
        "    i+=3\n",
        "    img=list_name[i].image\n",
        "    #img = load_img('/content/C-NMC_Leukemia/training_data/fold_0/all/UID_11_17_2_all.bmp')\n",
        "    # convert to numpy array\n",
        "    data = img_to_array(img)\n",
        "    # expand dimension to one sample\n",
        "    samples = expand_dims(data, 0)\n",
        "    # create image data augmentation generator\n",
        "    datagen = ImageDataGenerator(rotation_range=90)\n",
        "    # prepare iterator\n",
        "    it = datagen.flow(samples, batch_size=1)\n",
        "    # generate samples and plot\n",
        "    for i in range(1):\n",
        "      # define subplot\n",
        "      #pyplot.subplot(330 + 1 + i)\n",
        "      # generate batch of images\n",
        "      batch = it.next()\n",
        "      # convert to unsigned integers for viewing\n",
        "      image = batch[0].astype('uint8')\n",
        "      pic = Pics(image=image, label=list_name[0].label)\n",
        "      list_name.append(pic)\n",
        "      # plot raw pixel data\n",
        "      #pyplot.imshow(image)\n",
        "      # show the figure\n",
        "      #pyplot.show()\n",
        "\n"
      ],
      "metadata": {
        "id": "PLdmmtKVtKOt"
      },
      "execution_count": 13,
      "outputs": []
    },
    {
      "cell_type": "code",
      "source": [
        "random_rotation(all_list_fold0_labeld)\n",
        "random_rotation(all_list_fold1_labeld)\n",
        "random_rotation(hem_list_fold0_labeld)\n",
        "random_rotation(hem_list_fold1_labeld)\n",
        "random_rotation(hem_list_fold2_labeld)\n",
        "random_rotation(all_list_fold2_labeld)"
      ],
      "metadata": {
        "id": "3iLHccEd00s1"
      },
      "execution_count": 14,
      "outputs": []
    },
    {
      "cell_type": "code",
      "source": [
        "ct=0\n",
        "for i in range(0, len(all_list_fold0_labeld), 3):\n",
        "  ct+=1\n",
        "print(ct)\n",
        "print(len(all_list_fold0_labeld))\n"
      ],
      "metadata": {
        "colab": {
          "base_uri": "https://localhost:8080/"
        },
        "id": "KNqRW4VV5bhq",
        "outputId": "20a5981d-f0f1-4800-d9af-33f5c66ccb75"
      },
      "execution_count": 15,
      "outputs": [
        {
          "output_type": "stream",
          "name": "stdout",
          "text": [
            "0\n",
            "0\n"
          ]
        }
      ]
    },
    {
      "cell_type": "code",
      "source": [
        "for i in range(9):\n",
        "  all_list_fold0_labeld[i].image.show()\n"
      ],
      "metadata": {
        "id": "TOtIa3JXjA0L",
        "colab": {
          "base_uri": "https://localhost:8080/",
          "height": 183
        },
        "outputId": "ac1eca6c-dff6-4f6d-c14e-7d9cf1380cfe"
      },
      "execution_count": 16,
      "outputs": [
        {
          "output_type": "error",
          "ename": "IndexError",
          "evalue": "ignored",
          "traceback": [
            "\u001b[0;31m---------------------------------------------------------------------------\u001b[0m",
            "\u001b[0;31mIndexError\u001b[0m                                Traceback (most recent call last)",
            "\u001b[0;32m<ipython-input-16-18b8e0434895>\u001b[0m in \u001b[0;36m<cell line: 1>\u001b[0;34m()\u001b[0m\n\u001b[1;32m      1\u001b[0m \u001b[0;32mfor\u001b[0m \u001b[0mi\u001b[0m \u001b[0;32min\u001b[0m \u001b[0mrange\u001b[0m\u001b[0;34m(\u001b[0m\u001b[0;36m9\u001b[0m\u001b[0;34m)\u001b[0m\u001b[0;34m:\u001b[0m\u001b[0;34m\u001b[0m\u001b[0;34m\u001b[0m\u001b[0m\n\u001b[0;32m----> 2\u001b[0;31m   \u001b[0mall_list_fold0_labeld\u001b[0m\u001b[0;34m[\u001b[0m\u001b[0mi\u001b[0m\u001b[0;34m]\u001b[0m\u001b[0;34m.\u001b[0m\u001b[0mimage\u001b[0m\u001b[0;34m.\u001b[0m\u001b[0mshow\u001b[0m\u001b[0;34m(\u001b[0m\u001b[0;34m)\u001b[0m\u001b[0;34m\u001b[0m\u001b[0;34m\u001b[0m\u001b[0m\n\u001b[0m",
            "\u001b[0;31mIndexError\u001b[0m: list index out of range"
          ]
        }
      ]
    },
    {
      "cell_type": "code",
      "source": [
        "from sklearn.utils import compute_class_weight\n",
        "\n",
        "# Example target variable\n",
        "y = [0, 1, 1, 2, 2, 2]\n",
        "# Compute class weights using \"balanced\" strategy\n",
        "class_weights = compute_class_weight(\"balanced\", classes=[0, 1, 2], y=y)\n",
        "\n",
        "print(class_weights)"
      ],
      "metadata": {
        "colab": {
          "base_uri": "https://localhost:8080/"
        },
        "id": "VDtGtSj64j_A",
        "outputId": "99bbc412-d098-4e3e-f2c8-23dd6e722aea"
      },
      "execution_count": 17,
      "outputs": [
        {
          "output_type": "stream",
          "name": "stdout",
          "text": [
            "[2.         1.         0.66666667]\n"
          ]
        }
      ]
    },
    {
      "cell_type": "code",
      "source": [
        "from sklearn.utils.class_weight import compute_class_weight\n",
        "\n",
        "array = []\n",
        "\n",
        "def combine_labels(list_name):\n",
        "    for i in range(len(list_name)):\n",
        "        array.append(list_name[i].label)\n",
        "\n",
        "combine_labels(all_list_fold0_labeld)\n",
        "combine_labels(all_list_fold1_labeld)\n",
        "combine_labels(all_list_fold2_labeld)\n",
        "combine_labels(hem_list_fold0_labeld)\n",
        "combine_labels(hem_list_fold1_labeld)\n",
        "combine_labels(hem_list_fold2_labeld)\n",
        "\n",
        "\n",
        "class_weights = compute_class_weight(class_weight = \"balanced\", classes = np.unique(array),y=array)\n",
        "                                      \n",
        "\n",
        "x = len(all_list_fold0_labeld) + len(all_list_fold1_labeld) + len(all_list_fold2_labeld)\n",
        "y = len(hem_list_fold0_labeld) + len(hem_list_fold1_labeld) + len(hem_list_fold2_labeld)\n",
        "v = x + y\n",
        "\n",
        "print(\"Length of array:\", len(array))\n",
        "print(\"x =\", x)\n",
        "print(\"Class weights:\", class_weights)\n"
      ],
      "metadata": {
        "id": "EUWbUXvtCV6G",
        "colab": {
          "base_uri": "https://localhost:8080/",
          "height": 356
        },
        "outputId": "7d6b09ee-7ebe-4f66-bf78-0587dec6ce6d"
      },
      "execution_count": 18,
      "outputs": [
        {
          "output_type": "error",
          "ename": "IndexError",
          "evalue": "ignored",
          "traceback": [
            "\u001b[0;31m---------------------------------------------------------------------------\u001b[0m",
            "\u001b[0;31mIndexError\u001b[0m                                Traceback (most recent call last)",
            "\u001b[0;32m<ipython-input-18-03d5ebac57a1>\u001b[0m in \u001b[0;36m<cell line: 17>\u001b[0;34m()\u001b[0m\n\u001b[1;32m     15\u001b[0m \u001b[0;34m\u001b[0m\u001b[0m\n\u001b[1;32m     16\u001b[0m \u001b[0;34m\u001b[0m\u001b[0m\n\u001b[0;32m---> 17\u001b[0;31m \u001b[0mclass_weights\u001b[0m \u001b[0;34m=\u001b[0m \u001b[0mcompute_class_weight\u001b[0m\u001b[0;34m(\u001b[0m\u001b[0mclass_weight\u001b[0m \u001b[0;34m=\u001b[0m \u001b[0;34m\"balanced\"\u001b[0m\u001b[0;34m,\u001b[0m \u001b[0mclasses\u001b[0m \u001b[0;34m=\u001b[0m \u001b[0mnp\u001b[0m\u001b[0;34m.\u001b[0m\u001b[0munique\u001b[0m\u001b[0;34m(\u001b[0m\u001b[0marray\u001b[0m\u001b[0;34m)\u001b[0m\u001b[0;34m,\u001b[0m\u001b[0my\u001b[0m\u001b[0;34m=\u001b[0m\u001b[0marray\u001b[0m\u001b[0;34m)\u001b[0m\u001b[0;34m\u001b[0m\u001b[0;34m\u001b[0m\u001b[0m\n\u001b[0m\u001b[1;32m     18\u001b[0m \u001b[0;34m\u001b[0m\u001b[0m\n\u001b[1;32m     19\u001b[0m \u001b[0;34m\u001b[0m\u001b[0m\n",
            "\u001b[0;32m/usr/local/lib/python3.10/dist-packages/sklearn/utils/class_weight.py\u001b[0m in \u001b[0;36mcompute_class_weight\u001b[0;34m(class_weight, classes, y)\u001b[0m\n\u001b[1;32m     53\u001b[0m \u001b[0;34m\u001b[0m\u001b[0m\n\u001b[1;32m     54\u001b[0m         \u001b[0mrecip_freq\u001b[0m \u001b[0;34m=\u001b[0m \u001b[0mlen\u001b[0m\u001b[0;34m(\u001b[0m\u001b[0my\u001b[0m\u001b[0;34m)\u001b[0m \u001b[0;34m/\u001b[0m \u001b[0;34m(\u001b[0m\u001b[0mlen\u001b[0m\u001b[0;34m(\u001b[0m\u001b[0mle\u001b[0m\u001b[0;34m.\u001b[0m\u001b[0mclasses_\u001b[0m\u001b[0;34m)\u001b[0m \u001b[0;34m*\u001b[0m \u001b[0mnp\u001b[0m\u001b[0;34m.\u001b[0m\u001b[0mbincount\u001b[0m\u001b[0;34m(\u001b[0m\u001b[0my_ind\u001b[0m\u001b[0;34m)\u001b[0m\u001b[0;34m.\u001b[0m\u001b[0mastype\u001b[0m\u001b[0;34m(\u001b[0m\u001b[0mnp\u001b[0m\u001b[0;34m.\u001b[0m\u001b[0mfloat64\u001b[0m\u001b[0;34m)\u001b[0m\u001b[0;34m)\u001b[0m\u001b[0;34m\u001b[0m\u001b[0;34m\u001b[0m\u001b[0m\n\u001b[0;32m---> 55\u001b[0;31m         \u001b[0mweight\u001b[0m \u001b[0;34m=\u001b[0m \u001b[0mrecip_freq\u001b[0m\u001b[0;34m[\u001b[0m\u001b[0mle\u001b[0m\u001b[0;34m.\u001b[0m\u001b[0mtransform\u001b[0m\u001b[0;34m(\u001b[0m\u001b[0mclasses\u001b[0m\u001b[0;34m)\u001b[0m\u001b[0;34m]\u001b[0m\u001b[0;34m\u001b[0m\u001b[0;34m\u001b[0m\u001b[0m\n\u001b[0m\u001b[1;32m     56\u001b[0m     \u001b[0;32melse\u001b[0m\u001b[0;34m:\u001b[0m\u001b[0;34m\u001b[0m\u001b[0;34m\u001b[0m\u001b[0m\n\u001b[1;32m     57\u001b[0m         \u001b[0;31m# user-defined dictionary\u001b[0m\u001b[0;34m\u001b[0m\u001b[0;34m\u001b[0m\u001b[0m\n",
            "\u001b[0;31mIndexError\u001b[0m: arrays used as indices must be of integer (or boolean) type"
          ]
        }
      ]
    },
    {
      "cell_type": "code",
      "source": [
        "modified_weights = [weight * 2 for weight in class_weights]  # Multiply each weight by 2\n",
        "\n",
        "print(modified_weights)"
      ],
      "metadata": {
        "colab": {
          "base_uri": "https://localhost:8080/"
        },
        "id": "Uj7I6gVqFyUL",
        "outputId": "5ae8e7e9-5114-4004-d4a9-57484e7e596a"
      },
      "execution_count": 19,
      "outputs": [
        {
          "output_type": "stream",
          "name": "stdout",
          "text": [
            "[4.0, 2.0, 1.3333333333333333]\n"
          ]
        }
      ]
    }
  ]
}